{
 "cells": [
  {
   "cell_type": "code",
   "execution_count": 2,
   "metadata": {},
   "outputs": [
    {
     "name": "stdout",
     "output_type": "stream",
     "text": [
      "Среднее значение: 75046.4\n"
     ]
    }
   ],
   "source": [
    "#Python скрипт для вычисления среднего значения из чисел, введенных через пробел:\n",
    "# Ввод чисел через пробел\n",
    "input_numbers = input(\"Введите числа через пробел: \")\n",
    "\n",
    "# Разделение введенной строки на отдельные числа\n",
    "numbers = [float(num) for num in input_numbers.split()]\n",
    "\n",
    "# Проверка, что введены числа\n",
    "if not numbers:\n",
    "    print(\"Не введены числа.\")\n",
    "else:\n",
    "    # Вычисление среднего значения\n",
    "    average = sum(numbers) / len(numbers)\n",
    "\n",
    "    # Вывод результата\n",
    "    print(f\"Среднее значение: {average}\")\n"
   ]
  }
 ],
 "metadata": {
  "kernelspec": {
   "display_name": "Python 3",
   "language": "python",
   "name": "python3"
  },
  "language_info": {
   "codemirror_mode": {
    "name": "ipython",
    "version": 3
   },
   "file_extension": ".py",
   "mimetype": "text/x-python",
   "name": "python",
   "nbconvert_exporter": "python",
   "pygments_lexer": "ipython3",
   "version": "3.9.6"
  }
 },
 "nbformat": 4,
 "nbformat_minor": 2
}
