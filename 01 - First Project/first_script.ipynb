{
 "cells": [
  {
   "cell_type": "code",
   "execution_count": 3,
   "metadata": {},
   "outputs": [
    {
     "name": "stdout",
     "output_type": "stream",
     "text": [
      "Исходное слово: како5456\"\"%№еТо№\"\"№слово\n",
      "Обработанное слово: оволсотеокак\n"
     ]
    }
   ],
   "source": [
    "def process_word(word):\n",
    "    # Переворачивание слова\n",
    "    reversed_word = word[::-1]\n",
    "    \n",
    "    # Приведение к маленьким буквам\n",
    "    lowercase_word = reversed_word.lower()\n",
    "    \n",
    "    # Удаление спецсимволов и цифр (оставляем только буквы)\n",
    "    cleaned_word = ''.join(char for char in lowercase_word if char.isalpha())\n",
    "    \n",
    "    return cleaned_word\n",
    "\n",
    "# Пример использования\n",
    "input_word = input(\"Введите что нибудь\")\n",
    "result = process_word(input_word)\n",
    "\n",
    "print(f\"Исходное слово: {input_word}\")\n",
    "print(f\"Обработанное слово: {result}\")\n"
   ]
  }
 ],
 "metadata": {
  "kernelspec": {
   "display_name": "Python 3",
   "language": "python",
   "name": "python3"
  },
  "language_info": {
   "codemirror_mode": {
    "name": "ipython",
    "version": 3
   },
   "file_extension": ".py",
   "mimetype": "text/x-python",
   "name": "python",
   "nbconvert_exporter": "python",
   "pygments_lexer": "ipython3",
   "version": "3.9.6"
  }
 },
 "nbformat": 4,
 "nbformat_minor": 2
}
